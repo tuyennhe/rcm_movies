{
 "cells": [
  {
   "cell_type": "code",
   "execution_count": 28,
   "metadata": {},
   "outputs": [],
   "source": [
    "import pandas as pd\n",
    "import torch\n",
    "import torch.nn as nn\n",
    "import pytorch_lightning as pl\n",
    "from sklearn.model_selection import train_test_split\n",
    "import numpy as np\n",
    "# Đọc dữ liệu\n",
    "df = pd.read_csv('./Data/Data_final/ratings.csv')\n",
    "\n",
    "# Chuyển đổi người dùng và sản phẩm thành các chỉ số (index)\n",
    "user_ids = df['UserID'].unique().tolist()\n",
    "item_ids = df['MovieID'].unique().tolist()\n",
    "\n",
    "user2idx = {x: i for i, x in enumerate(user_ids)}\n",
    "item2idx = {x: i for i, x in enumerate(item_ids)}\n",
    "\n",
    "df['user'] = df['UserID'].apply(lambda x: user2idx[x])\n",
    "df['item'] = df['MovieID'].apply(lambda x: item2idx[x])\n",
    "\n",
    "# Chuyển đổi rating thành nhãn nhị phân (implicit feedback)\n",
    "df['label'] = (df['Rating'] >= 4).astype(float)\n",
    "\n",
    "# Chia dữ liệu thành tập huấn luyện và kiểm tra\n",
    "train, test = train_test_split(df[['user', 'item', 'label']], test_size=0.2, random_state=42)\n",
    "\n",
    "train_data = torch.utils.data.TensorDataset(\n",
    "    torch.tensor(train['user'].values, dtype=torch.long),\n",
    "    torch.tensor(train['item'].values, dtype=torch.long),\n",
    "    torch.tensor(train['label'].values, dtype=torch.float32)\n",
    ")\n",
    "\n",
    "test_data = torch.utils.data.TensorDataset(\n",
    "    torch.tensor(test['user'].values, dtype=torch.long),\n",
    "    torch.tensor(test['item'].values, dtype=torch.long),\n",
    "    torch.tensor(test['label'].values, dtype=torch.float32)\n",
    ")\n",
    "\n",
    "train_dataloader = torch.utils.data.DataLoader(train_data, batch_size=64, shuffle=True)\n",
    "test_dataloader = torch.utils.data.DataLoader(test_data, batch_size=64, shuffle=False)\n"
   ]
  },
  {
   "cell_type": "code",
   "execution_count": 29,
   "metadata": {},
   "outputs": [],
   "source": [
    "import torch.nn.functional as F\n",
    "\n",
    "class NCF(pl.LightningModule):\n",
    "    def __init__(self, num_users, num_items, factors=8, layers=[64, 32, 16, 8], lr=0.001):\n",
    "        super(NCF, self).__init__()\n",
    "        self.user_embedding = nn.Embedding(num_users, factors)\n",
    "        self.item_embedding = nn.Embedding(num_items, factors)\n",
    "        self.fc_layers = nn.Sequential()\n",
    "        input_size = factors * 2  # Vì chúng ta ghép nối vector nhúng của người dùng và sản phẩm\n",
    "\n",
    "        for i in range(len(layers)):\n",
    "            self.fc_layers.add_module(f'fc_layer{i}', nn.Linear(input_size, layers[i]))\n",
    "            self.fc_layers.add_module(f'relu_layer{i}', nn.ReLU())\n",
    "            input_size = layers[i]\n",
    "            \n",
    "        self.output_layer = nn.Linear(input_size, 1)\n",
    "        self.lr = lr\n",
    "    \n",
    "    def forward(self, user, item):\n",
    "        user_embedding = self.user_embedding(user)\n",
    "        item_embedding = self.item_embedding(item)\n",
    "        x = torch.cat([user_embedding, item_embedding], dim=-1)\n",
    "        x = self.fc_layers(x)\n",
    "        output = torch.sigmoid(self.output_layer(x))\n",
    "        return output\n",
    "    \n",
    "    def training_step(self, batch, batch_idx):\n",
    "        user, item, label = batch\n",
    "        prediction = self(user, item)\n",
    "        loss = F.binary_cross_entropy(prediction, label.unsqueeze(1))\n",
    "        return loss\n",
    "    \n",
    "    def configure_optimizers(self):\n",
    "        return torch.optim.Adam(self.parameters(), lr=self.lr)\n"
   ]
  },
  {
   "cell_type": "code",
   "execution_count": 30,
   "metadata": {},
   "outputs": [
    {
     "name": "stderr",
     "output_type": "stream",
     "text": [
      "GPU available: True (cuda), used: True\n",
      "TPU available: False, using: 0 TPU cores\n",
      "IPU available: False, using: 0 IPUs\n",
      "HPU available: False, using: 0 HPUs\n",
      "LOCAL_RANK: 0 - CUDA_VISIBLE_DEVICES: [0]\n",
      "\n",
      "  | Name           | Type       | Params\n",
      "----------------------------------------------\n",
      "0 | user_embedding | Embedding  | 8.0 K \n",
      "1 | item_embedding | Embedding  | 41.8 K\n",
      "2 | fc_layers      | Sequential | 3.8 K \n",
      "3 | output_layer   | Linear     | 9     \n",
      "----------------------------------------------\n",
      "53.7 K    Trainable params\n",
      "0         Non-trainable params\n",
      "53.7 K    Total params\n",
      "0.215     Total estimated model params size (MB)\n",
      "/home/tuyen/.local/lib/python3.10/site-packages/pytorch_lightning/trainer/connectors/data_connector.py:441: The 'train_dataloader' does not have many workers which may be a bottleneck. Consider increasing the value of the `num_workers` argument` to `num_workers=15` in the `DataLoader` to improve performance.\n"
     ]
    },
    {
     "name": "stdout",
     "output_type": "stream",
     "text": [
      "Epoch 19: 100%|██████████| 1276/1276 [00:06<00:00, 197.87it/s, v_num=7]"
     ]
    },
    {
     "name": "stderr",
     "output_type": "stream",
     "text": [
      "`Trainer.fit` stopped: `max_epochs=20` reached.\n"
     ]
    },
    {
     "name": "stdout",
     "output_type": "stream",
     "text": [
      "Epoch 19: 100%|██████████| 1276/1276 [00:06<00:00, 197.20it/s, v_num=7]\n"
     ]
    }
   ],
   "source": [
    "# Huấn luyện lại mô hình\n",
    "num_users = len(user2idx)\n",
    "num_items = len(item2idx)\n",
    "\n",
    "model = NCF(num_users, num_items)\n",
    "trainer = Trainer(max_epochs=20)\n",
    "trainer.fit(model, train_dataloader)\n",
    "\n"
   ]
  },
  {
   "cell_type": "code",
   "execution_count": 31,
   "metadata": {},
   "outputs": [
    {
     "name": "stdout",
     "output_type": "stream",
     "text": [
      "Hit Ratio @10: 0.4485\n"
     ]
    }
   ],
   "source": [
    "import numpy as np\n",
    "\n",
    "def hit_ratio_at_k(predictions, labels, k):\n",
    "    _, top_k_indices = predictions.topk(min(k, predictions.size(1)), dim=1)\n",
    "    hits = 0\n",
    "    for i in range(labels.size(0)):\n",
    "        if labels[i] in top_k_indices[i]:\n",
    "            hits += 1\n",
    "    return hits / labels.size(0)\n",
    "\n",
    "def evaluate(model, dataloader, k=10):\n",
    "    model.eval()\n",
    "    all_predictions = []\n",
    "    all_labels = []\n",
    "    with torch.no_grad():\n",
    "        for user, item, label in dataloader:\n",
    "            predictions = model(user, item)\n",
    "            all_predictions.append(predictions)\n",
    "            all_labels.append(label)\n",
    "    \n",
    "    all_predictions = torch.cat(all_predictions)\n",
    "    all_labels = torch.cat(all_labels)\n",
    "    return hit_ratio_at_k(all_predictions, all_labels, k)\n",
    "\n",
    "# Đánh giá mô hình\n",
    "hit_ratio = evaluate(model, test_dataloader, k=10)\n",
    "print(f'Hit Ratio @10: {hit_ratio:.4f}')\n"
   ]
  }
 ],
 "metadata": {
  "kernelspec": {
   "display_name": "Python 3",
   "language": "python",
   "name": "python3"
  },
  "language_info": {
   "codemirror_mode": {
    "name": "ipython",
    "version": 3
   },
   "file_extension": ".py",
   "mimetype": "text/x-python",
   "name": "python",
   "nbconvert_exporter": "python",
   "pygments_lexer": "ipython3",
   "version": "3.10.12"
  }
 },
 "nbformat": 4,
 "nbformat_minor": 2
}
