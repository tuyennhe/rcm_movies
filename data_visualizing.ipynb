{
 "cells": [
  {
   "cell_type": "code",
   "execution_count": 5,
   "metadata": {},
   "outputs": [],
   "source": [
    "import pandas as pd\n",
    "import matplotlib.pyplot as plt\n",
    "import seaborn as sns\n",
    "from matplotlib.dates import date2num\n",
    "import plotly.graph_objs as go\n",
    "import numpy as np"
   ]
  },
  {
   "cell_type": "code",
   "execution_count": 6,
   "metadata": {},
   "outputs": [
    {
     "data": {
      "text/html": [
       "<div>\n",
       "<style scoped>\n",
       "    .dataframe tbody tr th:only-of-type {\n",
       "        vertical-align: middle;\n",
       "    }\n",
       "\n",
       "    .dataframe tbody tr th {\n",
       "        vertical-align: top;\n",
       "    }\n",
       "\n",
       "    .dataframe thead th {\n",
       "        text-align: right;\n",
       "    }\n",
       "</style>\n",
       "<table border=\"1\" class=\"dataframe\">\n",
       "  <thead>\n",
       "    <tr style=\"text-align: right;\">\n",
       "      <th></th>\n",
       "      <th>Title</th>\n",
       "      <th>Year</th>\n",
       "      <th>Runtime</th>\n",
       "      <th>Genre</th>\n",
       "      <th>Rating</th>\n",
       "      <th>Description</th>\n",
       "      <th>Director</th>\n",
       "      <th>Stars</th>\n",
       "      <th>Votes</th>\n",
       "      <th>Img_link</th>\n",
       "    </tr>\n",
       "  </thead>\n",
       "  <tbody>\n",
       "    <tr>\n",
       "      <th>0</th>\n",
       "      <td>Sign of the Lion</td>\n",
       "      <td>1962</td>\n",
       "      <td>103 min</td>\n",
       "      <td>Drama</td>\n",
       "      <td>7.2</td>\n",
       "      <td>A French-American in Paris lives by sponging o...</td>\n",
       "      <td>Éric Rohmer</td>\n",
       "      <td>Éric Rohmer, Jess Hahn, Michèle Girardon, Van ...</td>\n",
       "      <td>2352.0</td>\n",
       "      <td>https://m.media-amazon.com/images/M/MV5BOGZkMj...</td>\n",
       "    </tr>\n",
       "    <tr>\n",
       "      <th>1</th>\n",
       "      <td>Bogowie</td>\n",
       "      <td>2014</td>\n",
       "      <td>120 min</td>\n",
       "      <td>Biography, Drama</td>\n",
       "      <td>7.6</td>\n",
       "      <td>The early career of cardiac surgeon Zbigniew R...</td>\n",
       "      <td>Lukasz Palkowski</td>\n",
       "      <td>Lukasz Palkowski, Tomasz Kot, Piotr Glowacki, ...</td>\n",
       "      <td>7704.0</td>\n",
       "      <td>https://m.media-amazon.com/images/M/MV5BMTg2YW...</td>\n",
       "    </tr>\n",
       "    <tr>\n",
       "      <th>2</th>\n",
       "      <td>WR: Mysteries of the Organism</td>\n",
       "      <td>1971</td>\n",
       "      <td>84 min</td>\n",
       "      <td>Comedy, Drama, Fantasy</td>\n",
       "      <td>6.7</td>\n",
       "      <td>An homage to the work of psychologist Wilhelm ...</td>\n",
       "      <td>Dusan Makavejev</td>\n",
       "      <td>Dusan Makavejev, Milena Dravic, Ivica Vidovic,...</td>\n",
       "      <td>5423.0</td>\n",
       "      <td>https://m.media-amazon.com/images/M/MV5BOTgyYW...</td>\n",
       "    </tr>\n",
       "    <tr>\n",
       "      <th>3</th>\n",
       "      <td>Macross Plus Movie Edition</td>\n",
       "      <td>1995</td>\n",
       "      <td>115 min</td>\n",
       "      <td>Animation, Action, Drama</td>\n",
       "      <td>7.5</td>\n",
       "      <td>Two rival test pilots strive to be the best th...</td>\n",
       "      <td>Shôji Kawamori</td>\n",
       "      <td>Shôji Kawamori, Yûji Moriyama, Shin'ichirô Wat...</td>\n",
       "      <td>689.0</td>\n",
       "      <td>https://m.media-amazon.com/images/M/MV5BODE5MD...</td>\n",
       "    </tr>\n",
       "    <tr>\n",
       "      <th>4</th>\n",
       "      <td>Visions of Light</td>\n",
       "      <td>1992</td>\n",
       "      <td>92 min</td>\n",
       "      <td>Documentary, History</td>\n",
       "      <td>7.7</td>\n",
       "      <td>Cameramen and women discuss the craft and art ...</td>\n",
       "      <td>Arnold Glassman</td>\n",
       "      <td>Arnold Glassman, Todd McCarthy, Stuart Samuels...</td>\n",
       "      <td>3336.0</td>\n",
       "      <td>https://m.media-amazon.com/images/M/MV5BMTIwNj...</td>\n",
       "    </tr>\n",
       "  </tbody>\n",
       "</table>\n",
       "</div>"
      ],
      "text/plain": [
       "                           Title  Year  Runtime                     Genre  \\\n",
       "0               Sign of the Lion  1962  103 min                     Drama   \n",
       "1                        Bogowie  2014  120 min          Biography, Drama   \n",
       "2  WR: Mysteries of the Organism  1971   84 min    Comedy, Drama, Fantasy   \n",
       "3     Macross Plus Movie Edition  1995  115 min  Animation, Action, Drama   \n",
       "4               Visions of Light  1992   92 min      Documentary, History   \n",
       "\n",
       "   Rating                                        Description  \\\n",
       "0     7.2  A French-American in Paris lives by sponging o...   \n",
       "1     7.6  The early career of cardiac surgeon Zbigniew R...   \n",
       "2     6.7  An homage to the work of psychologist Wilhelm ...   \n",
       "3     7.5  Two rival test pilots strive to be the best th...   \n",
       "4     7.7  Cameramen and women discuss the craft and art ...   \n",
       "\n",
       "           Director                                              Stars  \\\n",
       "0       Éric Rohmer  Éric Rohmer, Jess Hahn, Michèle Girardon, Van ...   \n",
       "1  Lukasz Palkowski  Lukasz Palkowski, Tomasz Kot, Piotr Glowacki, ...   \n",
       "2   Dusan Makavejev  Dusan Makavejev, Milena Dravic, Ivica Vidovic,...   \n",
       "3    Shôji Kawamori  Shôji Kawamori, Yûji Moriyama, Shin'ichirô Wat...   \n",
       "4   Arnold Glassman  Arnold Glassman, Todd McCarthy, Stuart Samuels...   \n",
       "\n",
       "    Votes                                           Img_link  \n",
       "0  2352.0  https://m.media-amazon.com/images/M/MV5BOGZkMj...  \n",
       "1  7704.0  https://m.media-amazon.com/images/M/MV5BMTg2YW...  \n",
       "2  5423.0  https://m.media-amazon.com/images/M/MV5BOTgyYW...  \n",
       "3   689.0  https://m.media-amazon.com/images/M/MV5BODE5MD...  \n",
       "4  3336.0  https://m.media-amazon.com/images/M/MV5BMTIwNj...  "
      ]
     },
     "execution_count": 6,
     "metadata": {},
     "output_type": "execute_result"
    }
   ],
   "source": [
    "movies = pd.read_csv(\"./Data/Data_final/5232movies_imdb.csv\", encoding='latin1')\n",
    "movies.head(5)"
   ]
  },
  {
   "cell_type": "code",
   "execution_count": 7,
   "metadata": {},
   "outputs": [
    {
     "data": {
      "text/plain": [
       "Title          0\n",
       "Year           0\n",
       "Runtime        2\n",
       "Genre          6\n",
       "Rating         0\n",
       "Description    0\n",
       "Director       1\n",
       "Stars          3\n",
       "Votes          3\n",
       "Img_link       0\n",
       "dtype: int64"
      ]
     },
     "execution_count": 7,
     "metadata": {},
     "output_type": "execute_result"
    }
   ],
   "source": [
    "movies.isnull().sum()"
   ]
  },
  {
   "cell_type": "code",
   "execution_count": 8,
   "metadata": {},
   "outputs": [
    {
     "data": {
      "text/plain": [
       "583"
      ]
     },
     "execution_count": 8,
     "metadata": {},
     "output_type": "execute_result"
    }
   ],
   "source": [
    "movies[movies['Rating'] > 8].shape[0]"
   ]
  }
 ],
 "metadata": {
  "kernelspec": {
   "display_name": "Python 3",
   "language": "python",
   "name": "python3"
  },
  "language_info": {
   "codemirror_mode": {
    "name": "ipython",
    "version": 3
   },
   "file_extension": ".py",
   "mimetype": "text/x-python",
   "name": "python",
   "nbconvert_exporter": "python",
   "pygments_lexer": "ipython3",
   "version": "3.10.12"
  }
 },
 "nbformat": 4,
 "nbformat_minor": 2
}
